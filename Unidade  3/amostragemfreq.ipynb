{
 "cells": [
  {
   "cell_type": "markdown",
   "metadata": {},
   "source": [
    "# **AMOSTRAGEM EM FREQUÊNCIA**\n",
    "\n",
    "## Introdução:\n",
    "\n",
    "1. Em geral, o problema do projeto de filtros FIR é encontrar uma resposta ao impulso h[n] de duração finita cuja Transformada de Fourier aproxime suficientemente bem uma dada resposta em frequência\n",
    "\n",
    "2. No método de projeto de filtros FIR por amostragem em frequência, a resposta em frequência de um filtro adequado é primeiro amostrada uniformemente em N pontos equidistantes entre 0 е 2π"
   ]
  }
 ],
 "metadata": {
  "language_info": {
   "name": "python"
  },
  "orig_nbformat": 4
 },
 "nbformat": 4,
 "nbformat_minor": 2
}
