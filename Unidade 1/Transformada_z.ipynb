{
 "cells": [
  {
   "cell_type": "markdown",
   "metadata": {},
   "source": [
    "# **TRANSFORMADA Z**\n",
    "\n",
    "A transformada Z para sinais discretos é uma generalização da transformada discreta de Fourier para sinais discretos. Deve-se observar que para certos tipos de sinais discretos não existe a transformada discreta de Fourier, mas pode existir a transformada Z desse sinal discreto. Outra vantagem da transformada Z é que a forma matemática da transformada Z pode ser mais facilmente representada de forma compacta ou analítica quando comparado com a transformada discreta de Fourier.\n"
   ]
  },
  {
   "cell_type": "markdown",
   "metadata": {},
   "source": [
    "## **Definição**\n",
    "\n",
    "A transformada Z de um sinal de tempo discreto $x[n]$ é definida da seguinte forma:\n",
    "\n",
    "$${\\displaystyle X(z) = \\sum_{n = -\\infty}^{\\infty} x[n] \\, z^{-n} \\tag{1}}$$\n",
    "\n",
    "onde $Z$ é o núcleo da transformada e é uma variável complexa.\n",
    "\n",
    "De forma alternativa podemos considerar a transformada $Z$ como um operador que transforma uma função discreta, isto é, um sinal discreto $x[n]$ em uma função contínua $X(z)$, mas onde $z$ é uma variável complexa contínua. A transformada $Z$ definida em $(1)$ é chamada de transformada $Z$ bilateral.\n",
    "\n",
    "## **Observações importantes!**\n",
    "\n",
    "**OBS 1:** Existe uma relação entre a a transformada $Z$ e a DTFT. No caso, a relação entre os núcleos das transformdas é dado por:\n",
    "\n",
    "$${\\displaystyle z = e^{i\\omega}}$$\n",
    "\n",
    "Podemos notar, dessa forma, que a transformada DTFT é um caso particular da transformada $Z$.\n",
    "\n",
    "**OBS 2:** Em geral, o núcleo da transformada $Z$ assume a seguinte forma:\n",
    "\n",
    "$${\\displaystyle z = r \\cdot e^{i\\omega}}$$\n",
    "\n",
    "A transformada Z é uma função da variável complexa independente $z$. Assim, uma forma adequada de analisar a transformada $Z$ do sinal $z[n]$ é através de um gráfico no plano complexo. Nesse plano complexo, o contorno correspondente a $|z| = 1$ é uma circunferência de raio unitário. Assim, a transformada $Z$ avaliada na circunferência de raio unitário é a transformada discreta de Fourier do sinal $x[n]$.\n",
    "\n",
    "![](../Imagens/Unidade1/complex_circle.png)\n",
    "\n",
    "Imagem disponível [aqui](https://www.geogebra.org/m/xxnfffy8)\n",
    "\n",
    "**OBS 3:** A utilidade da transformada Z pode ser significativa se for possível representar $X(z)$ de forma compacta e particularmente quando assume a seguinte forma:\n",
    "\n",
    "$$X(z) = \\frac{P(z)}{Q(z)}$$\n",
    "\n",
    "em que $P(z)$ e $Q(z)$ são polinômios em $z$. Os valores de $z$ para os quais $X(z) = 0$ são chamados de zeros de $X(z)$ e os valores de $z$ para os quais $X(z) \\to \\infty$ são chamados de polos de $X(z)$.\n",
    "\n",
    "Referência para o texto disponível [aqui](https://www.feis.unesp.br/Home/departamentos/engenhariaeletrica/mcap07final.pdf)"
   ]
  },
  {
   "cell_type": "markdown",
   "metadata": {},
   "source": [
    "### **Exemplo feito 01**\n",
    "\n",
    "Encontre a transformada Z do sinal $x[n] = -a^n u[-n -1]$ \n",
    "\n",
    "$$X(z) = \\sum_{n = -\\infty}^{\\infty}x[n] \\, z^{-n} = \\sum_{n = -\\infty}^{\\infty}-a^n u[-n -1] \\, z^{-n}  = \\sum_{n = -\\infty}^{-1} -a^n z^{-n}$$\n",
    "\n",
    "Fazendo-se a mudança de variável n = -m:\n",
    "\n",
    "$$X(z) = \\sum_{m = 1}^{\\infty} -a^{-m} z^{m} = - a^{-1}z^{1} - a^{-2}z^{2} - a^{-3}z^{3} - \\cdots - a^{-m}z^{m} - \\cdots  $$\n",
    "\n",
    "Colando-se em evidência:\n",
    "\n",
    "$$X(z) = \\sum_{m = 1}^{\\infty} -a^{-m} z^{m} = - a^{-1}z^{1} \\left[ 1- a^{-1}z^{1} - a^{-2}z^{2} - \\cdots - a^{-m}z^{m} - \\cdots \\right] $$\n",
    "\n",
    "Que é uma série geométrica com $a = 1$ e $r=a^{-1}z$ e converge se $|r|<1$, isto é, $a^{-1}z < 1$. Assim sendo, ficamos com:\n",
    "\n",
    "$$X(z) = \\sum_{m = 1}^{\\infty} -a^{-m} z^{m} = - a^{-1}z^{1} \\left[ \\frac{1}{1 - a^{-1}z} \\right]$$\n",
    "\n",
    "para $|z|<|a|$, então:\n",
    "\n",
    "$$\\boxed{X(z) = \\frac{z}{z-a}}$$\n",
    "\n",
    "Colocando-se em uma figura que mostra a zona de convergência, ficamos com a seguinte imagem:\n",
    "\n",
    "![](../Imagens/Unidade1/regiao_convergencia.png)"
   ]
  },
  {
   "cell_type": "markdown",
   "metadata": {},
   "source": [
    "### **Exemplo feito 02**\n",
    "\n",
    "Encontrar a transformada $Z$ do sinal discreto $x[n] = a^n \\cdot u[n]$.\n",
    "\n",
    "$$X(z) = \\sum_{n = -\\infty}^{\\infty}x[n] \\, z^{-n} = \\sum_{n = -\\infty}^{\\infty} a^n \\cdot u[n] \\, z^{-n}  = \\sum_{n = 0}^{\\infty} \\left(az^{-1}\\right)^{n}$$\n",
    "\n",
    "Como vimos anteriormente, isso somente será valido se $|r|<1$:\n",
    "\n",
    "$$ \\left(az^{-1}\\right) < 1 \\implies |z| > |a|$$\n",
    "\n",
    "Pelo somatório da série geométrica:\n",
    "\n",
    "$$X(z) = \\frac{1}{1 - az^{-1}}$$\n",
    "\n",
    "Portanto, ficamos com o seguinte resultado para $|z| > |a|$:\n",
    "\n",
    "$$\\boxed{X(z) = \\frac{z}{z - a}}$$\n",
    "\n",
    "Note que o resultado é igual ao do **exercício feito 01**, onde apenas a região de convergẽncia muda. Colocando-se em uma figura que mostra a zona de convergência, ficamos com a seguinte imagem:\n",
    "\n",
    "![](../Imagens/Unidade1/regiao_convergencia_2.png)"
   ]
  },
  {
   "cell_type": "markdown",
   "metadata": {},
   "source": [
    "## **Transformada Inversa Z**\n",
    "\n",
    "A transformada inversa Z é baseada em um caso especial do Teorema da integral de Cauchy.\n",
    "\n",
    "$$\\frac{1}{2\\pi i}\\oint_C z^{-t} dz= \\left\\{ \\begin{matrix} 1 \\, \\text{ , se t igual a 1} \\\\ 0 \\, \\text{ , se t não é 1} \\end{matrix}\\right.$$\n",
    "\n",
    "onde C é um contorno anti-horário que circunda a origem. Se multiplicarmos $X(z)$ por\n",
    "$z^{n−1}$ e calcularmos: \n",
    "\n",
    "$$\\begin{align*} \\frac{1}{2\\pi i}\\oint_C X(z) z^{n-1} dz &= \\frac{1}{2\\pi i}\\oint_C \\sum_{m=-\\infty}^{\\infty} x[m] z^{-m+n-1} dz \\\\ \\, &= \\sum_{m=-\\infty}^{\\infty} x[m] \\underbrace{\\frac{1}{2\\pi i} \\oint_C  z^{-m+n-1} dz}_{\\text{1 se m−n+1=1}} \\\\ \\, &= \\sum_{m=-\\infty}^{\\infty} x[m] \\delta(m-n) \\\\ \\, &= x[n]\\end{align*}$$\n",
    "\n",
    "Denote os pólos únicos de $X(z)$ como $λ_1, \\cdots, λ_R$ e seus multiplicidades como $m_1, \\cdots , m_R$. Enquanto $R$ for finito (que é o caso se $X(z)$ é racional) podemos avaliar a transformada $z$ inversa via Teorema do Resíduo de Cauchy, isto é:\n",
    "\n",
    "$$\\boxed{x[n] = \\frac{1}{2\\pi i}\\oint_C X(z) z^{n-1} dz = \\sum_{λ_k \\in C} Res\\left(X(z)z^{n-1}, λ_k, m_k \\right)}$$\n",
    "\n",
    "Em outras palavras, a soma dos resídios para $λ_R$ dentro do cículo de raio C é igual a transformada inversa z."
   ]
  },
  {
   "cell_type": "markdown",
   "metadata": {},
   "source": [
    "### **Exemplo feito 03**\n",
    "\n",
    "Determine a transformada inversa de $X(z) = \\frac{z}{z - a}$\n",
    "\n",
    "$$x[n] = \\frac{1}{2\\pi i}\\oint_C \\frac{z}{z - a} z^{n-1} dz $$\n",
    "\n",
    "Note que:\n",
    "\n",
    "$$x[n] = \\frac{1}{2\\pi i}\\oint_C \\frac{z}{z - a} z^{n-1} dz = \\frac{1}{2\\pi i}\\oint_C \\frac{z^n}{z - a} dz $$\n",
    "\n",
    "Pela propriedade da integral de Cauchy:\n",
    "\n",
    "$$ \\oint_{C^{+}} \\frac{f(z)}{z - a} dz = 2\\pi i f(a)$$\n",
    "\n",
    "$$ \\oint_{C^{-}} \\frac{-f(z)}{z - a} dz = -2\\pi i f(a)$$\n",
    "\n",
    "Então,\n",
    "\n",
    "$$x[n] = \\frac{1}{2\\pi i}\\oint_{C^{+}} \\frac{z^n}{z - a} dz = a^{n}u[n] \\, \\, \\text{, se |z| < |a|}$$\n",
    "\n",
    "$$x[n] = \\frac{1}{2\\pi i}\\oint_{C^{+}} \\frac{z^n}{z - a} dz = -a^{n}u[-n-1] \\, \\, \\text{, se |z| > |a|}$$"
   ]
  }
 ],
 "metadata": {
  "interpreter": {
   "hash": "83db9ccd60aaba7f36d82c7c8a804da99e0bc213c9e856efe6e157fa32ac376b"
  },
  "kernelspec": {
   "display_name": "Python 3.9.0 64-bit",
   "language": "python",
   "name": "python3"
  },
  "language_info": {
   "name": "python",
   "version": "3.9.0"
  },
  "orig_nbformat": 4
 },
 "nbformat": 4,
 "nbformat_minor": 2
}
