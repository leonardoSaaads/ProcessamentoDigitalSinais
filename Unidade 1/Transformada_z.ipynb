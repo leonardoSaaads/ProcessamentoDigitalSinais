{
 "cells": [
  {
   "cell_type": "markdown",
   "metadata": {},
   "source": [
    "# **TRANSFORMADA Z**\n",
    "\n",
    "A transformada Z para sinais discretos é uma generalização da transformada discreta de Fourier para sinais discretos. Deve-se observar que para certos tipos de sinais discretos não existe a transformada discreta de Fourier, mas pode existir a transformada Z desse sinal discreto. Outra vantagem da transformada Z é que a forma matemática da transformada Z pode ser mais facilmente representada de forma compacta ou analítica quando comparado com a transformada discreta de Fourier.\n"
   ]
  },
  {
   "cell_type": "markdown",
   "metadata": {},
   "source": [
    "## **Definição**\n",
    "\n",
    "A transformada Z de um sinal de tempo discreto $x[n]$ é definida da seguinte forma:\n",
    "\n",
    "$${\\displaystyle X(z) = \\sum_{n = -\\infty}^{\\infty} x[n] \\, z^{-n} \\tag{1}}$$\n",
    "\n",
    "onde $Z$ é o núcleo da transformada e é uma variável complexa.\n",
    "\n",
    "De forma alternativa podemos considerar a transformada $Z$ como um operador que transforma uma função discreta, isto é, um sinal discreto $x[n]$ em uma função contínua $X(z)$, mas onde $z$ é uma variável complexa contínua. A transformada $Z$ definida em $(1)$ é chamada de transformada $Z$ bilateral.\n",
    "\n",
    "## **Observações importantes!**\n",
    "\n",
    "**OBS 1:** Existe uma relação entre a a transformada $Z$ e a DTFT. No caso, a relação entre os núcleos das transformdas é dado por:\n",
    "\n",
    "$${\\displaystyle z = e^{i\\omega}}$$\n",
    "\n",
    "Podemos notar, dessa forma, que a transformada DTFT é um caso particular da transformada $Z$.\n",
    "\n",
    "**OBS 2:** Em geral, o núcleo da transformada $Z$ assume a seguinte forma:\n",
    "\n",
    "$${\\displaystyle z = r \\cdot e^{i\\omega}}$$\n",
    "\n",
    "A transformada Z é uma função da variável complexa independente $z$. Assim, uma forma adequada de analisar a transformada $Z$ do sinal $z[n]$ é através de um gráfico no plano complexo. Nesse plano complexo, o contorno correspondente a $|z| = 1$ é uma circunferência de raio unitário. Assim, a transformada $Z$ avaliada na circunferência de raio unitário é a transformada discreta de Fourier do sinal $x[n]$.\n",
    "\n",
    "![](../Imagens/Unidade1/complex_circle.png)\n",
    "\n",
    "Imagem disponível [aqui](https://www.geogebra.org/m/xxnfffy8)\n",
    "\n",
    "Referência para o texto disponível [aqui](https://www.feis.unesp.br/Home/departamentos/engenhariaeletrica/mcap07final.pdf)"
   ]
  }
 ],
 "metadata": {
  "language_info": {
   "name": "python"
  },
  "orig_nbformat": 4
 },
 "nbformat": 4,
 "nbformat_minor": 2
}
