{
 "cells": [
  {
   "cell_type": "markdown",
   "metadata": {},
   "source": [
    "# Transformada Discreta de Fourier - DFT\n",
    "\n",
    "A Transformada Discreta de Fourier (DFT) é o membro da família utilizado para sinais digitalizados. Ela possui uma componente real e imaginária. A DFT é uma representação no domínio da frequência da sequência de entrada original. Se a sequência original abranger todos os valores diferentes de zero de uma função, sua DTFT é contínua (e periódica) e a DFT fornece amostras discretas de um ciclo. Se a sequência original for um ciclo de uma função periódica, a DFT fornece todos os valores diferentes de zero de um ciclo da DTFT.\n",
    "\n",
    "A DFT é a transformada discreta mais importante, usada para realizar a análise de Fourier em muitas aplicações práticas. No processamento de sinal digital, a função é qualquer quantidade ou sinal que varie ao longo do tempo, como a pressão de uma onda sonora, um sinal de rádio ou leituras diárias de temperatura, amostradas em um intervalo de tempo finito (geralmente definido por uma função de janela [2]. ]). No processamento de imagens, as amostras podem ser os valores de pixels ao longo de uma linha ou coluna de uma imagem raster. A DFT também é usada para resolver eficientemente equações diferenciais parciais e para realizar outras operações, como convoluções ou multiplicação de inteiros grandes. [wiki](https://en.wikipedia.org/wiki/Discrete_Fourier_transform)\n",
    "\n",
    "## **Definição**\n",
    "\n",
    "$$ \\boxed{ X(\\omega)_k = \\sum_{n=0}^{N-1} x[n] \\cdot e^{-i \\frac{2 \\pi}{N} \\omega n } = \\sum_{n=0}^{N-1} x[n] \\left[ \\cos \\left(\\frac{2 \\pi}{N} \\omega n \\right) + i \\sin \\left(\\frac{2 \\pi}{N} \\omega n \\right) \\right]}$$\n"
   ]
  }
 ],
 "metadata": {
  "interpreter": {
   "hash": "2bcae4772b3d4923596b519cb14bdceffa142f6cd69756c93117cefd13b0ad43"
  },
  "kernelspec": {
   "display_name": "Python 3.9.7 ('base')",
   "language": "python",
   "name": "python3"
  },
  "language_info": {
   "name": "python",
   "version": "3.9.7"
  },
  "orig_nbformat": 4
 },
 "nbformat": 4,
 "nbformat_minor": 2
}
