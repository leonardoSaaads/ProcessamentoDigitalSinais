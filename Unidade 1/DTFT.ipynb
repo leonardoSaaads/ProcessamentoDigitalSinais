{
 "cells": [
  {
   "cell_type": "markdown",
   "metadata": {},
   "source": [
    "# Transformada de Fourier de Tempo Discreto - DTFT"
   ]
  },
  {
   "cell_type": "markdown",
   "metadata": {},
   "source": [
    "A DTFT difere da transformada de Fourier ao aplicar-se a funções cuja variável independente é discreta (descontínua), e não contínua, como é o caso da transformada de Fourier. A DTFT não deve ser confundida com a transformada discreta de Fourier (DFT), que pode ser considerada como um seu caso especial, que aparece numa situação muito comum: quando a função original é periódica."
   ]
  },
  {
   "cell_type": "markdown",
   "metadata": {},
   "source": [
    "## Definição\n",
    "\n",
    "Dado um conjunto discreto de números reais ou complexos: ${\\displaystyle x[n],\\;n\\in \\mathbb {Z} }$ (inteiros), a transformada de Fourier de tempo discreto de ${\\displaystyle x[n]\\,}$ é usualmente escrita:\n",
    "\n",
    "${\\displaystyle X(\\omega )=\\sum _{n=-\\infty }^{\\infty }x[n]\\,e^{-i\\omega n}}$  "
   ]
  },
  {
   "cell_type": "code",
   "execution_count": 6,
   "metadata": {},
   "outputs": [
    {
     "data": {
      "image/png": "[encoded data removed]",
      "text/plain": [
       "<Figure size 432x288 with 1 Axes>"
      ]
     },
     "metadata": {
      "needs_background": "light"
     },
     "output_type": "display_data"
    }
   ],
   "source": [
    "# Exemplo 01 - Sinal Contínuo Discreto:\n",
    "\n",
    "import numpy as np\n",
    "import matplotlib.pyplot as plt\n",
    "\n",
    "# Criando um array no eixo n de inteiros:\n",
    "n = np.array([1, 2, 3, 4, 5])\n",
    "\n",
    "# Criando um array no eixo y - sinal contínuo:\n",
    "y = np.array([1, 1, 1, 1, 1])\n",
    "\n",
    "# Plotando o sinal o sinal \n",
    "plt.stem(n, y)\n",
    "\n",
    "# Mudando a dimensão do eixo x:\n",
    "plt.xlim((-1, 7))\n",
    "\n",
    "# Visualizando as imagens\n",
    "plt.show()"
   ]
  }
 ],
 "metadata": {
  "interpreter": {
   "hash": "760892ce3164b76c03b317fa412cee1719926f6318c2a0c9ea286a3f84560ff2"
  },
  "kernelspec": {
   "display_name": "Python 3.9.0 64-bit",
   "language": "python",
   "name": "python3"
  },
  "language_info": {
   "codemirror_mode": {
    "name": "ipython",
    "version": 3
   },
   "file_extension": ".py",
   "mimetype": "text/x-python",
   "name": "python",
   "nbconvert_exporter": "python",
   "pygments_lexer": "ipython3",
   "version": "3.9.0"
  },
  "orig_nbformat": 4
 },
 "nbformat": 4,
 "nbformat_minor": 2
}
