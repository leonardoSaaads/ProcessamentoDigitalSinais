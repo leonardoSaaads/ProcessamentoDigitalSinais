{
 "cells": [
  {
   "cell_type": "markdown",
   "metadata": {},
   "source": [
    "# **GITHUB**\n",
    "\n",
    "![](../Imagens/Unidade0/Github_Space.jpg)\n",
    "\n",
    "### O QUE É?\n",
    "\n",
    "GitHub é uma plataforma gratuita de hospedagem de código-fonte e arquivos com controle de versão usando o **Git**. Ele permite que programadores, utilitários ou qualquer usuário cadastrado na plataforma contribuam em projetos privados e/ou Open Source de qualquer lugar do mundo. GitHub é amplamente utilizado por programadores para divulgação de seus trabalhos ou para que outros programadores contribuam com o projeto, além de promover fácil comunicação através de recursos que relatam problemas ou mesclam repositórios remotos (issues, pull request). [Wikipédia.](https://pt.wikipedia.org/wiki/GitHub)\n",
    "\n",
    "**OBS**: O Git e o Github são coias distintas. O Github é uma plataforma baseada em núvem para a hospedagem de código-fonte, mas o Git é um sistema de controle de versão de arquivos.\n",
    "\n",
    "### POR QUE USAR?\n",
    "\n",
    "O Github é usado por muitos programadores para ajudar a comunidade a compartilhar seus trabalhos e projetos. Além disso, você pode usar o GitHub para criar repositórios públicos ou privados, que podem ser usados para aprendizado, atualizações, correções e melhor visualização. Geralmente, desenvolvedores criam um novo projeto e continuam criando atualizações/expansões no código base. Com isso em mente, o git e o github ajudam a acompanhar as mudanças feitas no código base. E mais, eles também registram quem efetuou a mudança e permitem a restauração do código removido ou modificado. Ademais, diferentemente dos sistemas de controle de versão centralizados, o Git oferece ramificações de recursos (ou feature branches). Isso significa que cada engenheiro de software na equipe pode separar uma ramificação de recursos que oferece um repositório local isolado para promover mudanças nos códigos. [Hostinger](https://www.hostinger.com.br/tutoriais/o-que-github)\n",
    "\n",
    "### COMO COMEÇAR A USAR O GITHUB?\n",
    "\n",
    "O Github possui alguns planos de hospedagem gratuitos e pagos para que você possa começar a usar. Para começar a usar, você precisa criar uma conta. Para isso, clique no botão abaixo e siga as instruções."
   ]
  },
  {
   "cell_type": "markdown",
   "metadata": {},
   "source": [
    "## **CRIANDO UM REPOSITÓRIO NO GITHUB**\n",
    "\n",
    "### 1. Acesse o [site](https://github.com/) e clique em sign up.\n",
    "\n",
    "![](../Imagens/Unidade0/Github1.png)\n",
    "\n",
    "### 2. Crie uma conta.\n",
    "\n",
    "![](../Imagens/Unidade0/Github2.png)\n",
    "\n",
    "### 3. Entre em sua conta.\n",
    "\n",
    "![](../Imagens/Unidade0/Github3.png)\n",
    "\n",
    "### 4. Clique em **new**, coloque o nome do seu repositório como **\"ProcessamentoSinaisDigitais\"** e coloque as configurações do seu repositório como **Público**.\n",
    "\n",
    "![](../Imagens/Unidade0/Github4.png)\n",
    "\n"
   ]
  }
 ],
 "metadata": {
  "language_info": {
   "name": "python"
  },
  "orig_nbformat": 4
 },
 "nbformat": 4,
 "nbformat_minor": 2
}
