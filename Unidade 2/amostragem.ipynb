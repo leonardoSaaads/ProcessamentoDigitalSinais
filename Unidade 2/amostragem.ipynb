{
 "cells": [
  {
   "cell_type": "markdown",
   "metadata": {},
   "source": [
    "# **Conversão de Sinais de Tempo Contínuo em Tempo Discreto - Teorema da amostragem**"
   ]
  }
 ],
 "metadata": {
  "language_info": {
   "name": "python"
  },
  "orig_nbformat": 4
 },
 "nbformat": 4,
 "nbformat_minor": 2
}
