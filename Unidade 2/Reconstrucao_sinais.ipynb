{
 "cells": [
  {
   "cell_type": "markdown",
   "metadata": {},
   "source": [
    "# **Reconstrução de Sinais.**\n",
    "\n",
    "Um sinal de tempo discreto pode ser convertido em um sinal de tempo contínuo mediante um sistema de conversão.\n",
    "\n",
    "A Reconstrução de um sinal de tempo contínuo exige amostras que, de forma coetiva, estão aptas a identificar um único sinal. "
   ]
  }
 ],
 "metadata": {
  "interpreter": {
   "hash": "83db9ccd60aaba7f36d82c7c8a804da99e0bc213c9e856efe6e157fa32ac376b"
  },
  "kernelspec": {
   "display_name": "Python 3.9.0 64-bit",
   "language": "python",
   "name": "python3"
  },
  "language_info": {
   "name": "python",
   "version": "3.9.0"
  },
  "orig_nbformat": 4
 },
 "nbformat": 4,
 "nbformat_minor": 2
}
