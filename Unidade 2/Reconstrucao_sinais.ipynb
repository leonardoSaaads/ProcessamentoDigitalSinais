{
 "cells": [
  {
   "cell_type": "markdown",
   "metadata": {},
   "source": [
    "# **Reconstrução de Sinais.**\n",
    "\n",
    "Um sinal de tempo discreto pode ser convertido em um sinal de tempo contínuo mediante um sistema de conversão.\n",
    "\n",
    "A Reconstrução de um sinal de tempo contínuo exige amostras que, de forma coetiva, estão aptas a identificar um único sinal. "
   ]
  }
 ],
 "metadata": {
  "language_info": {
   "name": "python"
  },
  "orig_nbformat": 4
 },
 "nbformat": 4,
 "nbformat_minor": 2
}
