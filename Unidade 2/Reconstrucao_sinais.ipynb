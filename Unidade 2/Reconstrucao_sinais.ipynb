{
 "cells": [
  {
   "cell_type": "markdown",
   "metadata": {},
   "source": [
    "# **Reconstrução de Sinais.**\n",
    "\n",
    "Um sinal de tempo discreto pode ser convertido em um sinal de tempo contínuo mediante um sistema de conversão. Iremos ver dois tipos de reconstrução de sinais:\n",
    "\n",
    "* Reconstrução Ideal de sinais.\n",
    "* Reconstrução Real de sinais.\n",
    "\n",
    "A reconstrução de um sinal exige amostras que, de forma coletiva, sejam capazes de identificar um único sinal. Se as condições do Teorema de Amostragem forem satisfeitas, dentre todos os sinais, apenas um possui a largura de faixa mínima de $B < \\frac{1}{2T_a}$.\n",
    "\n",
    "## **Reconstrução Ideal**\n",
    "\n",
    "Na reconstrução ideal, o sinal contínuo é obtido por uma filtragem em frequência com uso de um filtro passa-baixo ideal.\n",
    "\n",
    "(Imagem) 51/60\n",
    "\n",
    "Note que, para:\n",
    "\n",
    "* $x_r(t)$ o valor reconstruido no tempo.\n",
    "* $x_s(t)$ o valor amostrado.\n",
    "* $x_c(t)$ o valor contínio. (que não foi amostrado ainda)\n",
    "* $T_a$ o período de amostragem.\n",
    "\n",
    "temos a seguinte situação:\n",
    "\n",
    "$$ \\begin{align*}x_r(t) &= x_s(t) * h(t) \\\\ \\, &= \\frac{1}{T_a}\\sum_{n=-\\infty}^{\\infty}x_c(nT_a)\\delta(t - n T_a) * h(t) \\\\ \\, &= \\frac{1}{T_a} \\sum_{n=-\\infty}^{\\infty}x_c(nT_a)h(t - n T_a) \\end{align*}$$\n",
    "\n",
    "Como a resposta ao impulso do Filtro Passa baixa ideal é dada por:\n",
    "\n",
    "$$ \\begin{align*} h(t) &= T_a \\cdot sinc \\left(\\frac{\\omega_s}{2}t \\right) \\\\ \\, &= T_a \\cdot sinc \\left(\\frac{\\pi}{T_a}t \\right)\\end{align*}$$\n",
    "\n",
    "então:\n",
    "\n",
    "$$ \\boxed{\\begin{align*}x_r(t) &= \\sum_{n=-\\infty}^{\\infty}x_c(nT_a) sinc \\left(\\frac{\\pi}{T_a}t - n T_a\\right) \\end{align*}}$$"
   ]
  },
  {
   "cell_type": "code",
   "execution_count": 1,
   "metadata": {},
   "outputs": [
    {
     "data": {
      "image/png": "[encoded data removed]",
      "text/plain": [
       "<Figure size 432x288 with 1 Axes>"
      ]
     },
     "metadata": {
      "needs_background": "light"
     },
     "output_type": "display_data"
    }
   ],
   "source": [
    "# Exemplo de Reconstrução\n",
    "import numpy as np\n",
    "import matplotlib.pyplot as plt\n",
    "\n",
    "# Função Amostrada\n",
    "Ta = 0.5                                             # Periodo amostragem\n",
    "t_0 = 0                                              # Tempo Inicial\n",
    "t_f = 10                                             # Tempo Final \n",
    "n = (t_f - t_0)/Ta                                   # Quantidade\n",
    "t = np.arange(t_0, t_f, Ta)                          # Array Tempo\n",
    "y = 20*np.sin(t) + 40 + 1.7**t - np.log(t + 0.1)     # Função Amostrada\n",
    "\n",
    "# Plota a Função Amostrada\n",
    "plt.subplot(2, 1, 1)\n",
    "plt.stem(t, y, 'r--')\n",
    "plt.title('Sinal Amostrado')\n",
    "\n",
    "plt.tight_layout()\n",
    "plt.show()"
   ]
  }
 ],
 "metadata": {
  "interpreter": {
   "hash": "83db9ccd60aaba7f36d82c7c8a804da99e0bc213c9e856efe6e157fa32ac376b"
  },
  "kernelspec": {
   "display_name": "Python 3.9.0 64-bit",
   "language": "python",
   "name": "python3"
  },
  "language_info": {
   "codemirror_mode": {
    "name": "ipython",
    "version": 3
   },
   "file_extension": ".py",
   "mimetype": "text/x-python",
   "name": "python",
   "nbconvert_exporter": "python",
   "pygments_lexer": "ipython3",
   "version": "3.9.0"
  },
  "orig_nbformat": 4
 },
 "nbformat": 4,
 "nbformat_minor": 2
}
